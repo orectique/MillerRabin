{
 "cells": [
  {
   "cell_type": "code",
   "execution_count": 48,
   "metadata": {},
   "outputs": [],
   "source": [
    "n = 1009\n",
    "flag = 0\n",
    "\n",
    "primality = True"
   ]
  },
  {
   "cell_type": "code",
   "execution_count": 49,
   "metadata": {},
   "outputs": [],
   "source": [
    "d = n - 1\n",
    "s = 0\n",
    "\n",
    "while d % 2 == 0:\n",
    "    d //= 2\n",
    "    s += 1"
   ]
  },
  {
   "cell_type": "code",
   "execution_count": 50,
   "metadata": {},
   "outputs": [
    {
     "name": "stdout",
     "output_type": "stream",
     "text": [
      "d =  63\n",
      "s =  4\n"
     ]
    }
   ],
   "source": [
    "print(\"d = \", d)\n",
    "print(\"s = \", s)"
   ]
  },
  {
   "cell_type": "code",
   "execution_count": 51,
   "metadata": {},
   "outputs": [
    {
     "data": {
      "text/plain": [
       "1009"
      ]
     },
     "execution_count": 51,
     "metadata": {},
     "output_type": "execute_result"
    }
   ],
   "source": [
    "2 ** s * d + 1"
   ]
  },
  {
   "cell_type": "code",
   "execution_count": 52,
   "metadata": {},
   "outputs": [],
   "source": [
    "import math"
   ]
  },
  {
   "cell_type": "code",
   "execution_count": 53,
   "metadata": {},
   "outputs": [],
   "source": [
    "for a in range(2, min(n - 2, math.floor(2 * (math.log(n)**2))) + 1):\n",
    "    x = pow(a, d, n)\n",
    "    if x == 1 or x == n - 1:\n",
    "        continue\n",
    "    for r in range(1, s):\n",
    "        x = pow(x, 2, n)\n",
    "        if x == 1:\n",
    "            #print(\"composite\")\n",
    "            primality = False\n",
    "            break\n",
    "        if x == n - 1:\n",
    "            break\n",
    "    else:\n",
    "        #print(\"composite\")\n",
    "        primality = False\n",
    "        break"
   ]
  },
  {
   "cell_type": "code",
   "execution_count": 54,
   "metadata": {},
   "outputs": [
    {
     "data": {
      "text/plain": [
       "True"
      ]
     },
     "execution_count": 54,
     "metadata": {},
     "output_type": "execute_result"
    }
   ],
   "source": [
    "primality"
   ]
  },
  {
   "cell_type": "code",
   "execution_count": 55,
   "metadata": {},
   "outputs": [
    {
     "data": {
      "text/plain": [
       "'1009 is prime.'"
      ]
     },
     "execution_count": 55,
     "metadata": {},
     "output_type": "execute_result"
    }
   ],
   "source": [
    "f'{n} is prime.'"
   ]
  },
  {
   "cell_type": "code",
   "execution_count": 58,
   "metadata": {},
   "outputs": [],
   "source": [
    "from sympy import factorint"
   ]
  },
  {
   "cell_type": "code",
   "execution_count": 61,
   "metadata": {},
   "outputs": [],
   "source": [
    "f = factorint(n + 1)"
   ]
  },
  {
   "cell_type": "code",
   "execution_count": 65,
   "metadata": {},
   "outputs": [
    {
     "data": {
      "text/plain": [
       "'1009 = 2*5*101'"
      ]
     },
     "execution_count": 65,
     "metadata": {},
     "output_type": "execute_result"
    }
   ],
   "source": [
    "strOut = f'{n} = '\n",
    "for k, v in f.items():\n",
    "    strOut += ''.join([f'{k}*' for i in range(v)])\n",
    "\n",
    "strOut[:-1]"
   ]
  },
  {
   "cell_type": "code",
   "execution_count": null,
   "metadata": {},
   "outputs": [],
   "source": []
  }
 ],
 "metadata": {
  "kernelspec": {
   "display_name": "Python 3.10.4 ('env')",
   "language": "python",
   "name": "python3"
  },
  "language_info": {
   "codemirror_mode": {
    "name": "ipython",
    "version": 3
   },
   "file_extension": ".py",
   "mimetype": "text/x-python",
   "name": "python",
   "nbconvert_exporter": "python",
   "pygments_lexer": "ipython3",
   "version": "3.10.4"
  },
  "orig_nbformat": 4,
  "vscode": {
   "interpreter": {
    "hash": "7aa7eecd0f849ab40efe6ac0a8ce5383eaa0569ecfba7009708b3eaae53995d1"
   }
  }
 },
 "nbformat": 4,
 "nbformat_minor": 2
}
